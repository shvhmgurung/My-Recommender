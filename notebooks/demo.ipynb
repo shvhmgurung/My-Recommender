{
 "cells": [
  {
   "cell_type": "markdown",
   "id": "3d1f61dc",
   "metadata": {},
   "source": [
    " ### Imports & Data Generation"
   ]
  },
  {
   "cell_type": "code",
   "execution_count": null,
   "id": "b22b1410",
   "metadata": {},
   "outputs": [],
   "source": [
    "from my_recommender.data.loader import generate_fake_users, generate_fake_projects\n",
    "from my_recommender.ml.recommender import recommend_projects\n",
    "from my_recommender.models.models import User\n",
    "from pprint import pprint\n",
    "from uuid import uuid4"
   ]
  },
  {
   "cell_type": "markdown",
   "id": "c80a8f93",
   "metadata": {},
   "source": [
    "### Generate Users and Projects"
   ]
  },
  {
   "cell_type": "code",
   "execution_count": null,
   "id": "75b88c23",
   "metadata": {},
   "outputs": [],
   "source": [
    "users = generate_fake_users(5)\n",
    "projects = generate_fake_projects(5, users)\n",
    "\n",
    "print(\"All Users:\")\n",
    "for u in users:\n",
    "    pprint(u.model_dump(mode=\"json\"))"
   ]
  },
  {
   "cell_type": "markdown",
   "id": "b2404887",
   "metadata": {},
   "source": [
    "### Pick a Demo User and Show Recommendations"
   ]
  },
  {
   "cell_type": "code",
   "execution_count": null,
   "id": "f5dd64e9",
   "metadata": {},
   "outputs": [],
   "source": [
    "user = users[0]\n",
    "print(\"User:\", user.username)\n",
    "print(\"Skills:\", user.skills)\n",
    "print(\"Interests:\", user.interests)\n",
    "print(\"GitHub:\", user.github_url)\n",
    "\n",
    "# Get and show their project recommendations\n",
    "recs = recommend_projects(user, projects, top_n=3)\n",
    "print(\"\\nRecommended Projects for\", user.username)\n",
    "for proj in recs:\n",
    "    print(\"-\", proj.name, proj.tags)"
   ]
  },
  {
   "cell_type": "markdown",
   "id": "cbf3ab81",
   "metadata": {},
   "source": [
    "### Try a Custom User of Your Own"
   ]
  },
  {
   "cell_type": "code",
   "execution_count": null,
   "id": "4618c9e6",
   "metadata": {},
   "outputs": [],
   "source": [
    "custom_user = User(\n",
    "    user_id=uuid4(),\n",
    "    username=\"testyboi\",\n",
    "    skills=[\"python\", \"ml\", \"fastapi\"],\n",
    "    interests=[\"ai\", \"education\"],\n",
    "    starred_projects=[],\n",
    "    contributed_projects=[],\n",
    "    github_url=\"https://github.com/testyboi\"\n",
    ")\n",
    "\n",
    "recs_custom = recommend_projects(custom_user, projects, top_n=3)\n",
    "print(\"For custom user:\", custom_user.username)\n",
    "for proj in recs_custom:\n",
    "    print(\"-\", proj.name, proj.tags)"
   ]
  },
  {
   "cell_type": "markdown",
   "id": "c94b4294",
   "metadata": {},
   "source": [
    " ### See All Projects (for reference)"
   ]
  },
  {
   "cell_type": "code",
   "execution_count": null,
   "id": "514c240c",
   "metadata": {},
   "outputs": [],
   "source": [
    "print(\"\\nAll Projects:\")\n",
    "for p in projects:\n",
    "    pprint(p.model_dump(mode=\"json\"))"
   ]
  }
 ],
 "metadata": {
  "kernelspec": {
   "display_name": "my-recommender-lyHW8UsD-py3.10",
   "language": "python",
   "name": "python3"
  },
  "language_info": {
   "codemirror_mode": {
    "name": "ipython",
    "version": 3
   },
   "file_extension": ".py",
   "mimetype": "text/x-python",
   "name": "python",
   "nbconvert_exporter": "python",
   "pygments_lexer": "ipython3",
   "version": "3.10.13"
  }
 },
 "nbformat": 4,
 "nbformat_minor": 5
}
